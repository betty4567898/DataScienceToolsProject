{
 "cells": [
  {
   "cell_type": "markdown",
   "id": "1041c76d-5fc6-4223-bef8-d7432af7ad35",
   "metadata": {},
   "source": [
    "# Data Science Tools and Ecosystem\r\n"
   ]
  },
  {
   "cell_type": "markdown",
   "id": "7d30438d-6ba7-4ae6-8537-cad2589c276f",
   "metadata": {},
   "source": [
    "This notebook provides an overview of popular data science tools, languages, and libraries. Additionally, it includes examples of basic arithmetic operations.\n"
   ]
  },
  {
   "cell_type": "markdown",
   "id": "122f3428-e0aa-4d7b-aeb7-482bcc491f0e",
   "metadata": {},
   "source": [
    "**Popular Data Science Languages:**\r\n",
    "1. Python\r\n",
    "2. R\r\n",
    "3. SQL\r\n",
    "4. Julia\r\n",
    "5. Scala\r\n",
    "\n"
   ]
  },
  {
   "cell_type": "markdown",
   "id": "95b04e39-a13c-405e-980f-126b2bfcdacb",
   "metadata": {},
   "source": [
    "**Popular Data Science Languages:**\r\n",
    "1. Python\r\n",
    "2. R\r\n",
    "3. SQL\r\n",
    "4. Julia\r\n",
    "5. Scala\r\n"
   ]
  },
  {
   "cell_type": "markdown",
   "id": "a41bcc2e-9396-4241-9b8d-7ca9c335bc4e",
   "metadata": {},
   "source": [
    "**Popular Data Science Libraries:**\r\n",
    "1. Pandas\r\n",
    "2. NumPy\r\n",
    "3. Matplotlib\r\n",
    "4. Scikit-learn\r\n",
    "5. TensorFlow\r\n"
   ]
  },
  {
   "cell_type": "markdown",
   "id": "7459784e-67e7-42d8-b5a9-12d535d3bef0",
   "metadata": {},
   "source": [
    "| Tool             | Description                              |\r\n",
    "|------------------|------------------------------------------|\r\n",
    "| Jupyter Notebook | Interactive computing environment       |\r\n",
    "| RStudio          | IDE for R programming                   |\r\n",
    "| Apache Spark     | Cluster computing framework             |\r\n"
   ]
  },
  {
   "cell_type": "markdown",
   "id": "2a76939b-e726-42ec-8fe5-8e570ef92fe7",
   "metadata": {},
   "source": [
    "Below are examples of simple arithmetic expressions.\r\n"
   ]
  },
  {
   "cell_type": "markdown",
   "id": "9aa9b445-50a0-45d9-aaf0-b26570548bc4",
   "metadata": {},
   "source": [
    "# Multiplying and adding numbers\r\n",
    "result = (5 * 3) + 7\r\n",
    "result\r\n"
   ]
  },
  {
   "cell_type": "markdown",
   "id": "18629d52-cfdc-41ca-aa04-0352bceab8a3",
   "metadata": {},
   "source": [
    "# Converting minutes to hours\r\n",
    "minutes = 120\r\n",
    "hours = minutes / 60\r\n",
    "hours\r\n"
   ]
  },
  {
   "cell_type": "markdown",
   "id": "1122d229-ac1e-4b6f-b792-dfb64ea82be1",
   "metadata": {},
   "source": [
    "**Objectives:**\r\n",
    "- Introduce popular data science tools and languages.\r\n",
    "- Demonstrate basic arithmetic operations.\r\n",
    "- Practice sharing work on GitHub.\r\n"
   ]
  },
  {
   "cell_type": "markdown",
   "id": "560253a7-3be7-4859-bdcd-0a818409df81",
   "metadata": {},
   "source": [
    "**Author**: Ibtissam El Hichou\n"
   ]
  },
  {
   "cell_type": "markdown",
   "id": "1240389a-7441-4a64-a36c-cffa455ecb3c",
   "metadata": {},
   "source": []
  }
 ],
 "metadata": {
  "kernelspec": {
   "display_name": "Python 3 (ipykernel)",
   "language": "python",
   "name": "python3"
  },
  "language_info": {
   "codemirror_mode": {
    "name": "ipython",
    "version": 3
   },
   "file_extension": ".py",
   "mimetype": "text/x-python",
   "name": "python",
   "nbconvert_exporter": "python",
   "pygments_lexer": "ipython3",
   "version": "3.12.4"
  }
 },
 "nbformat": 4,
 "nbformat_minor": 5
}
